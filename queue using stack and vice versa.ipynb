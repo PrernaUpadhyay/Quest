{
  "nbformat": 4,
  "nbformat_minor": 0,
  "metadata": {
    "colab": {
      "provenance": [],
      "authorship_tag": "ABX9TyPqDmcY2bLLZbFYg0o5NGXw",
      "include_colab_link": true
    },
    "kernelspec": {
      "name": "python3",
      "display_name": "Python 3"
    },
    "language_info": {
      "name": "python"
    }
  },
  "cells": [
    {
      "cell_type": "markdown",
      "metadata": {
        "id": "view-in-github",
        "colab_type": "text"
      },
      "source": [
        "<a href=\"https://colab.research.google.com/github/PrernaUpadhyay/Quest/blob/main/queue%20using%20stack%20and%20vice%20versa.ipynb\" target=\"_parent\"><img src=\"https://colab.research.google.com/assets/colab-badge.svg\" alt=\"Open In Colab\"/></a>"
      ]
    },
    {
      "cell_type": "code",
      "source": [
        "from collections import deque\n",
        "\n",
        "class StackUsingQueue:\n",
        "    def __init__(self):\n",
        "        # Initialize two queues using deque\n",
        "        self.q1 = deque()  # This will be the main queue holding the stack elements\n",
        "        self.q2 = deque()  # This is the auxiliary queue used for pushing\n",
        "\n",
        "    # Push an element into the stack\n",
        "    def push(self, data):\n",
        "        # Step 1: Add the new data to the empty auxiliary queue (q2)\n",
        "        self.q2.append(data)\n",
        "\n",
        "        # Step 2: Transfer all elements from q1 to q2 to reverse their order\n",
        "        while self.q1:\n",
        "            self.q2.append(self.q1.popleft())\n",
        "\n",
        "        # Step 3: Swap the names of q1 and q2\n",
        "        # Now, q1 becomes the main queue again, and q2 is ready to be used for the next push\n",
        "        self.q1, self.q2 = self.q2, self.q1\n",
        "\n",
        "    # Pop the top element from the stack\n",
        "    def pop(self):\n",
        "        # If q1 is empty, the stack is empty\n",
        "        if not self.q1:\n",
        "            return \"Stack is empty\"\n",
        "        # Remove and return the front element of q1 (which is the last pushed element)\n",
        "        return self.q1.popleft()\n",
        "\n",
        "    # Peek the top element of the stack without removing it\n",
        "    def top(self):\n",
        "        # If q1 is empty, the stack is empty\n",
        "        if not self.q1:\n",
        "            return \"Stack is empty\"\n",
        "        # Return the front element of q1 (which is the top of the stack)\n",
        "        return self.q1[0]\n",
        "\n",
        "    # Check if the stack is empty\n",
        "    def is_empty(self):\n",
        "        # If q1 is empty, the stack has no elements\n",
        "        return len(self.q1) == 0\n",
        "\n",
        "# Example usage:\n",
        "stack = StackUsingQueue()\n",
        "stack.push(10)\n",
        "stack.push(20)\n",
        "stack.push(30)\n",
        "print(stack.pop())  # Output: 30 (last pushed element)\n",
        "print(stack.top())  # Output: 20 (new top of the stack)\n"
      ],
      "metadata": {
        "colab": {
          "base_uri": "https://localhost:8080/"
        },
        "id": "K-MNI9mKlF1g",
        "outputId": "ea4b9855-540b-42d2-c6e9-2a65425b4553"
      },
      "execution_count": 5,
      "outputs": [
        {
          "output_type": "stream",
          "name": "stdout",
          "text": [
            "30\n",
            "20\n"
          ]
        }
      ]
    },
    {
      "cell_type": "code",
      "source": [
        "class QueueUsingStack:\n",
        "    def __init__(self):\n",
        "        # Initialize two stacks using Python lists\n",
        "        self.s1 = []  # This stack is used to store incoming elements\n",
        "        self.s2 = []  # This stack is used for dequeuing (reversing the order)\n",
        "\n",
        "    # Enqueue an element into the queue\n",
        "    def enqueue(self, data):\n",
        "        # Simply push the new element onto stack s1\n",
        "        self.s1.append(data)\n",
        "\n",
        "    # Dequeue an element from the queue\n",
        "    def dequeue(self):\n",
        "        # If both stacks are empty, the queue is empty\n",
        "        if not self.s1 and not self.s2:\n",
        "            return \"Queue is empty\"\n",
        "\n",
        "        # If stack s2 is empty, transfer all elements from s1 to s2\n",
        "        # This reverses the order so that the oldest element (FIFO) is on top of s2\n",
        "        if not self.s2:\n",
        "            while self.s1:\n",
        "                self.s2.append(self.s1.pop())\n",
        "\n",
        "        # Pop and return the top element from s2, which is the front of the queue\n",
        "        return self.s2.pop()\n",
        "\n",
        "    # Peek the front element of the queue without removing it\n",
        "    def front(self):\n",
        "        # If both stacks are empty, the queue is empty\n",
        "        if not self.s1 and not self.s2:\n",
        "            return \"Queue is empty\"\n",
        "\n",
        "        # If s2 is empty, return the first element in s1 (the oldest in the queue)\n",
        "        # Otherwise, return the top of s2, which is the front of the queue\n",
        "        if not self.s2:\n",
        "            return self.s1[0]\n",
        "        return self.s2[-1]\n",
        "\n",
        "    # Check if the queue is empty\n",
        "    def is_empty(self):\n",
        "        # The queue is empty if both stacks are empty\n",
        "        return len(self.s1) == 0 and len(self.s2) == 0\n",
        "\n",
        "# Example usage:\n",
        "queue = QueueUsingStack()\n",
        "queue.enqueue(10)\n",
        "queue.enqueue(20)\n",
        "queue.enqueue(30)\n",
        "print(queue.dequeue())  # Output: 10 (first enqueued element)\n",
        "print(queue.front())    # Output: 20 (new front of the queue)\n"
      ],
      "metadata": {
        "colab": {
          "base_uri": "https://localhost:8080/"
        },
        "id": "Vushu9q9lJNL",
        "outputId": "9c98c3a6-a8bd-4ac9-ed98-068fdf548a8a"
      },
      "execution_count": 6,
      "outputs": [
        {
          "output_type": "stream",
          "name": "stdout",
          "text": [
            "10\n",
            "20\n"
          ]
        }
      ]
    }
  ]
}